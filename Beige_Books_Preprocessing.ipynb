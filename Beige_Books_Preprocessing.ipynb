{
 "cells": [
  {
   "cell_type": "markdown",
   "id": "9dd86809",
   "metadata": {},
   "source": [
    "# Beige Books Data"
   ]
  },
  {
   "cell_type": "markdown",
   "id": "41fe41a4",
   "metadata": {},
   "source": [
    "This notebook does a few things:\n",
    "- Downloads all the Beige Books summaries\n",
    "- Validates the data isn't sus\n",
    "- Cleans up the text"
   ]
  },
  {
   "cell_type": "markdown",
   "id": "7eeb893b",
   "metadata": {},
   "source": [
    "## Imports"
   ]
  },
  {
   "cell_type": "code",
   "execution_count": 83,
   "id": "cb4fc804",
   "metadata": {},
   "outputs": [],
   "source": [
    "from bs4 import BeautifulSoup\n",
    "from collections import Counter\n",
    "import nltk\n",
    "import pandas as pd\n",
    "import re\n",
    "import requests\n",
    "import string\n",
    "import time"
   ]
  },
  {
   "cell_type": "code",
   "execution_count": 22,
   "id": "6beefbb5",
   "metadata": {},
   "outputs": [
    {
     "name": "stderr",
     "output_type": "stream",
     "text": [
      "[nltk_data] Downloading package stopwords to\n",
      "[nltk_data]     /Users/mihikabairathi/nltk_data...\n",
      "[nltk_data]   Package stopwords is already up-to-date!\n",
      "[nltk_data] Downloading package punkt_tab to\n",
      "[nltk_data]     /Users/mihikabairathi/nltk_data...\n",
      "[nltk_data]   Unzipping tokenizers/punkt_tab.zip.\n"
     ]
    },
    {
     "data": {
      "text/plain": [
       "True"
      ]
     },
     "execution_count": 22,
     "metadata": {},
     "output_type": "execute_result"
    }
   ],
   "source": [
    "nltk.download(\"stopwords\")\n",
    "nltk.download('punkt_tab')"
   ]
  },
  {
   "cell_type": "markdown",
   "id": "6a30ade1",
   "metadata": {},
   "source": [
    "## Download the data"
   ]
  },
  {
   "cell_type": "code",
   "execution_count": 2,
   "id": "49c88bb0",
   "metadata": {},
   "outputs": [],
   "source": [
    "def fetch_beigebook(url, year, month):\n",
    "    data = []\n",
    "    \n",
    "    try:\n",
    "        r = requests.get(url, timeout=10)\n",
    "        if r.status_code != 200:\n",
    "            return []\n",
    "        \n",
    "        soup = BeautifulSoup(r.text, \"html.parser\")\n",
    "        paragraphs = []\n",
    "        \n",
    "        for p in soup.find_all(\"p\"):\n",
    "            parents = [parent.name for parent in p.parents]\n",
    "            if not any(tag in parents for tag in [\"header\", \"footer\", \"nav\"]):\n",
    "                text = p.get_text(strip=True)\n",
    "                if text.lower().startswith(\"full report\"):\n",
    "                    break\n",
    "                if text:\n",
    "                    paragraphs.append(text)\n",
    "        \n",
    "        if paragraphs:\n",
    "            combined = \" \".join(paragraphs)\n",
    "            data.append({\n",
    "                \"year\": year,\n",
    "                \"month\": month,\n",
    "                \"url\": url,\n",
    "                \"text\": combined\n",
    "            })\n",
    "            print(f\"Fetched {year}-{month}, {len(paragraphs)} paragraphs\")\n",
    "        \n",
    "        time.sleep(0.5)\n",
    "        return data\n",
    "    \n",
    "    except Exception as e:\n",
    "        print(f\"Failed to fetch {url}: {e}\")\n",
    "        return []"
   ]
  },
  {
   "cell_type": "code",
   "execution_count": null,
   "id": "2b79ce4f-5e42-4efb-9c2c-01e344239183",
   "metadata": {},
   "outputs": [],
   "source": [
    "beige_books_data = []\n",
    "\n",
    "# 1996 - 2010\n",
    "for year in range(1996, 2011):\n",
    "    for month in range(1, 13):\n",
    "        for day in range(1, 32):\n",
    "            url = f\"https://www.federalreserve.gov/fomc/beigebook/{year}/{year}{month:02d}{day:02d}/default.htm\"\n",
    "            beige_books_data.extend(fetch_beigebook(url, year, month))\n",
    "\n",
    "# 2011 - 2016\n",
    "for year in range(2011, 2017):\n",
    "    for month in range(1, 13):\n",
    "        url = f\"https://www.federalreserve.gov/monetarypolicy/beigebook/beigebook{year}{month:02d}.htm?summary\"\n",
    "        beige_books_data.extend(fetch_beigebook(url, year, month))\n",
    "\n",
    "# 2017 - 2025\n",
    "for year in range(2017, 2026):\n",
    "    for month in range(1, 13):\n",
    "        url = f\"https://www.federalreserve.gov/monetarypolicy/beigebook{year}{month:02d}-summary.htm\"\n",
    "        beige_books_data.extend(fetch_beigebook(url, year, month))\n",
    "\n",
    "# Save to CSV\n",
    "df = pd.DataFrame(beige_books_data)\n",
    "df.to_csv(\"data/beige_book_1996_2025.csv\", index=False)\n",
    "print(\"Saved beige_book_1996_2025.csv\")"
   ]
  },
  {
   "cell_type": "markdown",
   "id": "78225630",
   "metadata": {},
   "source": [
    "## Data Validation"
   ]
  },
  {
   "cell_type": "code",
   "execution_count": 137,
   "id": "00eff7ac",
   "metadata": {},
   "outputs": [],
   "source": [
    "beige_df = pd.read_csv(\"data/beige_book_1996_2025.csv\")"
   ]
  },
  {
   "cell_type": "code",
   "execution_count": 138,
   "id": "47420cbd",
   "metadata": {},
   "outputs": [],
   "source": [
    "# assume the first day of the month for timestamp\n",
    "beige_df[\"timestamp\"] = pd.to_datetime(beige_df[\"year\"].astype(str) + \"-\" + beige_df[\"month\"].astype(str) + \"-01\")"
   ]
  },
  {
   "cell_type": "code",
   "execution_count": 139,
   "id": "b573cc67",
   "metadata": {},
   "outputs": [
    {
     "name": "stdout",
     "output_type": "stream",
     "text": [
      "Number of rows: 231\n",
      "<class 'pandas.core.frame.DataFrame'>\n",
      "RangeIndex: 231 entries, 0 to 230\n",
      "Data columns (total 5 columns):\n",
      " #   Column     Non-Null Count  Dtype         \n",
      "---  ------     --------------  -----         \n",
      " 0   year       231 non-null    int64         \n",
      " 1   month      231 non-null    int64         \n",
      " 2   url        231 non-null    object        \n",
      " 3   text       231 non-null    object        \n",
      " 4   timestamp  231 non-null    datetime64[ns]\n",
      "dtypes: datetime64[ns](1), int64(2), object(2)\n",
      "memory usage: 9.2+ KB\n"
     ]
    }
   ],
   "source": [
    "# check for nulls and data types\n",
    "print(f\"Number of rows: {len(beige_df)}\")\n",
    "beige_df.info()"
   ]
  },
  {
   "cell_type": "code",
   "execution_count": 140,
   "id": "b516632c-d0a6-4a09-97cc-715934bd8d1f",
   "metadata": {},
   "outputs": [
    {
     "name": "stdout",
     "output_type": "stream",
     "text": [
      "https://www.federalreserve.gov/fomc/beigebook/1996/19961030/default.htm\n",
      "An official website of the United States Government Official websites use .govA.govwebsite belongs to an official government organization in the United States. Secure .gov websites use HTTPSAlock(LockLocked padlock icon) orhttps://means you've safely connected to the .gov website. Share sensitive information only on official, secure websites. Economic activity changed little on balance since the previous report, with three Districts reporting slight to modest growth in activity, five reporting no change, and four noting a slight softening. Overall consumer spending, particularly on retail goods, inched down in recent weeks, although auto sales were boosted in some Districts by strong demand for electric vehicles ahead of the expiration of a federal tax credit at the end of September. Demand for leisure and hospitality services by international travelers fell further over the reporting period, while demand by domestic consumers was largely unchanged. Nevertheless, spending by higher-income individuals on luxury travel and accommodation was reportedly strong. Several reports highlighted that lower- and middle-income households continued to seek discounts and promotions in the face of rising prices and elevated economic uncertainty. Manufacturing activity varied by District, and most reports noted challenging conditions due to higher tariffs and waning overall demand. Activity in agriculture, energy, and transportation was generally down among reporting Districts. Conditions in the financial services sector and other interest rate-sensitive sectors, such as residential and commercial real estate, were mixed; some reports noted improved business lending in recent weeks due to lower interest rates, while other reports continued to highlight muted activity. The outlook for future economic growth varied by District and sector. Sentiment reportedly improved in a few Districts, with some contacts expecting an uptick in demand over the next 6 to 12 months. However, many others continued to expect elevated uncertainty to weigh down activity. One District report highlighted the downside risk to growth from a prolonged government shutdown. Employment levels were largely stable in recent weeks, and demand for labor was generally muted across Districts and sectors. In most Districts, more employers reported lowering head counts through layoffs and attrition, with contacts citing weaker demand, elevated economic uncertainty, and, in some cases, increased investment in artificial intelligence technologies. Employers that reported hiring generally noted improved labor availability, and some favored hiring temporary and part-time workers over offering full-time employment opportunities. Nevertheless, labor supply in the hospitality, agriculture, construction, and manufacturing sectors was reportedly strained in several Districts due to recent changes to immigration policies. Wages grew across all reporting Districts, generally at a modest to moderate pace, and labor cost pressures intensified in recent weeks due to outsized increases in employer-sponsored health insurance expenses. Prices rose further during the reporting period. Several District reports indicated that input costs increased at a faster pace due to higher import costs and the higher cost of services such as insurance, health care, and technology solutions. Tariff-induced input cost increases were reported across many Districts, but the extent of those higher costs passing through to final prices varied. Some firms facing tariff-induced cost pressures kept their selling prices largely unchanged to preserve market share and in response to pushback from price-sensitive clients. However, there were also reports of firms in manufacturing and retail trades fully passing higher import costs along to their customers. Waning demand in some markets reportedly pushed prices down for some materials, such as steel in the Sixth District and lumber in the Twelfth District. Economic activity expanded slightly, with modest growth in consumer spending. Employment was flat, as both hiring and layoffs increased modestly. Prices increased at a moderate pace, although certain cost pressures intensified. Home sales were flat from a year earlier. The outlook was neutral to cautiously optimistic, but contacts saw mostly downside risks. Economic activity continued to decline slightly. Employment held steady, and wage growth remained modest. The pace of price increases remained elevated but was little changed. Manufacturing activity held steady after a summer uptick. Consumer spending increased modestly, buoyed by mid- to upper-income households. Businesses did not expect activity to increase much in the months ahead. Business activity increased slightly in the current Beige Book period. Employment levels increased slightly, and wages again rose at modest pre-pandemic rates. Prices continued to rise moderately. Activity increased slightly for nonmanufacturers and moderately for manufacturers. Generally, firms expect modest growth over the next six months, but heightened economic uncertainty remains. Fourth District business activity was flat in recent weeks, but contacts expected activity to increase modestly in months ahead. Commercial construction and financial services contacts noted an uptick in demand because of lower interest rates. Contacts said that cost growth remained robust, while their selling prices increased modestly. The regional economy grew modestly in recent weeks. Consumer spending continued to grow modestly and import activity rose. Manufacturing activity declined slightly and growth in the remaining industries was largely flat. Employment levels were largely unchanged and wage growth remained moderate. Price growth remained moderate, overall, despite some pickup in price growth in the manufacturing sector. The Sixth District economy was unchanged. Employment levels were steady, and wages grew modestly. Prices increased moderately. Consumer spending fell, and leisure travel softened. Home sales declined, and commercial real estate was unchanged. Transportation declined. Manufacturing grew slightly. Energy grew moderately, and agriculture was healthy. Economic activity in the Seventh District was flat. Consumer spending increased modestly; construction and real estate activity increased slightly; employment was flat; nonbusiness contacts saw no change in activity; business spending declined slightly; and manufacturing activity declined modestly. Prices rose moderately, wages were up modestly, and financial conditions loosened slightly. Prospects for 2025 farm income were unchanged. Economic activity and employment levels have remained unchanged since our previous report. Contacts continue to report that immigration policies have been resulting in labor shortages. Prices have increased moderately, with contacts reporting that inflation is eroding consumer purchasing power. Banking activity has remained unchanged since our previous report, with overall credit conditions remaining strong. Agriculture conditions are strained and have further deteriorated. The outlook remains slightly pessimistic. District economic activity contracted slightly. Labor demand softened, according to firms and job seekers, though wage growth remained moderate. Price increases remained modest, but input price pressures increased. Manufacturing and commercial real estate were flat, but most other sectors contracted. Agricultural contacts were concerned about China's elimination of soybean purchases. Economic activity in the Tenth District fell slightly over the past month. Employment levels declined slightly, and bankers noted consumer loan portfolios deteriorated moderately. Though activity fell recently, expectations for sales and employment in 2026 were broadly optimistic. Expectations for the pace of price growth in 2026 were similarly above 2025 levels. Economic activity was flat. Service sector activity contracted mildly. Retail sales fell, while the pace of manufacturing output growth moderated. Loan demand grew, but the housing market remained weak, and drilling and well completion activity was flat. Employment dipped, and wage growth was modest. Price pressures were subdued in services but remained elevated in the manufacturing sector. Outlooks deteriorated with slowing demand, policy uncertainty, and inflation highlighted as the top concerns for businesses. Economic activity edged down slightly. Employment levels were little changed. Wages grew slightly, and prices rose modestly. Activity in retail trade, agriculture, and residential real estate decreased somewhat while commercial real estate activity was unchanged. Manufacturing and lending activity remained stable. Conditions in consumer and business services were mixed. Note: This report was prepared at the Federal Reserve Bank of San Francisco based on information collected on or before October 6, 2025. This document summarizes comments received from contacts outside the Federal Reserve System and is not a commentary on the views of Federal Reserve officials.\n"
     ]
    },
    {
     "data": {
      "text/html": [
       "<div>\n",
       "<style scoped>\n",
       "    .dataframe tbody tr th:only-of-type {\n",
       "        vertical-align: middle;\n",
       "    }\n",
       "\n",
       "    .dataframe tbody tr th {\n",
       "        vertical-align: top;\n",
       "    }\n",
       "\n",
       "    .dataframe thead th {\n",
       "        text-align: right;\n",
       "    }\n",
       "</style>\n",
       "<table border=\"1\" class=\"dataframe\">\n",
       "  <thead>\n",
       "    <tr style=\"text-align: right;\">\n",
       "      <th></th>\n",
       "      <th>year</th>\n",
       "      <th>month</th>\n",
       "      <th>url</th>\n",
       "      <th>text</th>\n",
       "      <th>timestamp</th>\n",
       "    </tr>\n",
       "  </thead>\n",
       "  <tbody>\n",
       "    <tr>\n",
       "      <th>0</th>\n",
       "      <td>1996</td>\n",
       "      <td>10</td>\n",
       "      <td>https://www.federalreserve.gov/fomc/beigebook/...</td>\n",
       "      <td>October 30, 1996SummarySkip to contentSummaryD...</td>\n",
       "      <td>1996-10-01</td>\n",
       "    </tr>\n",
       "    <tr>\n",
       "      <th>1</th>\n",
       "      <td>1996</td>\n",
       "      <td>12</td>\n",
       "      <td>https://www.federalreserve.gov/fomc/beigebook/...</td>\n",
       "      <td>December 4, 1996SummarySkip to contentSummaryD...</td>\n",
       "      <td>1996-12-01</td>\n",
       "    </tr>\n",
       "    <tr>\n",
       "      <th>2</th>\n",
       "      <td>1997</td>\n",
       "      <td>1</td>\n",
       "      <td>https://www.federalreserve.gov/fomc/beigebook/...</td>\n",
       "      <td>January 22, 1997SummarySkip to contentSummaryD...</td>\n",
       "      <td>1997-01-01</td>\n",
       "    </tr>\n",
       "    <tr>\n",
       "      <th>3</th>\n",
       "      <td>1997</td>\n",
       "      <td>3</td>\n",
       "      <td>https://www.federalreserve.gov/fomc/beigebook/...</td>\n",
       "      <td>March 12, 1997SummarySkip to contentSummaryDis...</td>\n",
       "      <td>1997-03-01</td>\n",
       "    </tr>\n",
       "    <tr>\n",
       "      <th>4</th>\n",
       "      <td>1997</td>\n",
       "      <td>5</td>\n",
       "      <td>https://www.federalreserve.gov/fomc/beigebook/...</td>\n",
       "      <td>May 7, 1997SummarySkip to contentSummaryDistri...</td>\n",
       "      <td>1997-05-01</td>\n",
       "    </tr>\n",
       "  </tbody>\n",
       "</table>\n",
       "</div>"
      ],
      "text/plain": [
       "   year  month                                                url  \\\n",
       "0  1996     10  https://www.federalreserve.gov/fomc/beigebook/...   \n",
       "1  1996     12  https://www.federalreserve.gov/fomc/beigebook/...   \n",
       "2  1997      1  https://www.federalreserve.gov/fomc/beigebook/...   \n",
       "3  1997      3  https://www.federalreserve.gov/fomc/beigebook/...   \n",
       "4  1997      5  https://www.federalreserve.gov/fomc/beigebook/...   \n",
       "\n",
       "                                                text  timestamp  \n",
       "0  October 30, 1996SummarySkip to contentSummaryD... 1996-10-01  \n",
       "1  December 4, 1996SummarySkip to contentSummaryD... 1996-12-01  \n",
       "2  January 22, 1997SummarySkip to contentSummaryD... 1997-01-01  \n",
       "3  March 12, 1997SummarySkip to contentSummaryDis... 1997-03-01  \n",
       "4  May 7, 1997SummarySkip to contentSummaryDistri... 1997-05-01  "
      ]
     },
     "execution_count": 140,
     "metadata": {},
     "output_type": "execute_result"
    }
   ],
   "source": [
    "# see samples of data\n",
    "print(beige_df.loc[0, \"url\"])\n",
    "print(beige_df.loc[230, \"text\"])\n",
    "beige_df.head()"
   ]
  },
  {
   "cell_type": "code",
   "execution_count": 141,
   "id": "944fcd4c",
   "metadata": {},
   "outputs": [
    {
     "name": "stdout",
     "output_type": "stream",
     "text": [
      "earliest = 1996-10-01 00:00:00\n",
      "latest = 2025-10-01 00:00:00\n"
     ]
    },
    {
     "data": {
      "text/html": [
       "<div>\n",
       "<style scoped>\n",
       "    .dataframe tbody tr th:only-of-type {\n",
       "        vertical-align: middle;\n",
       "    }\n",
       "\n",
       "    .dataframe tbody tr th {\n",
       "        vertical-align: top;\n",
       "    }\n",
       "\n",
       "    .dataframe thead th {\n",
       "        text-align: right;\n",
       "    }\n",
       "</style>\n",
       "<table border=\"1\" class=\"dataframe\">\n",
       "  <thead>\n",
       "    <tr style=\"text-align: right;\">\n",
       "      <th></th>\n",
       "      <th>count</th>\n",
       "      <th>min</th>\n",
       "      <th>max</th>\n",
       "    </tr>\n",
       "    <tr>\n",
       "      <th>year</th>\n",
       "      <th></th>\n",
       "      <th></th>\n",
       "      <th></th>\n",
       "    </tr>\n",
       "  </thead>\n",
       "  <tbody>\n",
       "    <tr>\n",
       "      <th>1996</th>\n",
       "      <td>2</td>\n",
       "      <td>1996-10-01</td>\n",
       "      <td>1996-12-01</td>\n",
       "    </tr>\n",
       "    <tr>\n",
       "      <th>1997</th>\n",
       "      <td>8</td>\n",
       "      <td>1997-01-01</td>\n",
       "      <td>1997-12-01</td>\n",
       "    </tr>\n",
       "    <tr>\n",
       "      <th>1998</th>\n",
       "      <td>8</td>\n",
       "      <td>1998-01-01</td>\n",
       "      <td>1998-12-01</td>\n",
       "    </tr>\n",
       "    <tr>\n",
       "      <th>1999</th>\n",
       "      <td>8</td>\n",
       "      <td>1999-01-01</td>\n",
       "      <td>1999-12-01</td>\n",
       "    </tr>\n",
       "    <tr>\n",
       "      <th>2000</th>\n",
       "      <td>8</td>\n",
       "      <td>2000-01-01</td>\n",
       "      <td>2000-12-01</td>\n",
       "    </tr>\n",
       "    <tr>\n",
       "      <th>2001</th>\n",
       "      <td>8</td>\n",
       "      <td>2001-01-01</td>\n",
       "      <td>2001-11-01</td>\n",
       "    </tr>\n",
       "    <tr>\n",
       "      <th>2002</th>\n",
       "      <td>8</td>\n",
       "      <td>2002-01-01</td>\n",
       "      <td>2002-11-01</td>\n",
       "    </tr>\n",
       "    <tr>\n",
       "      <th>2003</th>\n",
       "      <td>8</td>\n",
       "      <td>2003-01-01</td>\n",
       "      <td>2003-11-01</td>\n",
       "    </tr>\n",
       "    <tr>\n",
       "      <th>2004</th>\n",
       "      <td>8</td>\n",
       "      <td>2004-01-01</td>\n",
       "      <td>2004-12-01</td>\n",
       "    </tr>\n",
       "    <tr>\n",
       "      <th>2005</th>\n",
       "      <td>8</td>\n",
       "      <td>2005-01-01</td>\n",
       "      <td>2005-11-01</td>\n",
       "    </tr>\n",
       "    <tr>\n",
       "      <th>2006</th>\n",
       "      <td>8</td>\n",
       "      <td>2006-01-01</td>\n",
       "      <td>2006-11-01</td>\n",
       "    </tr>\n",
       "    <tr>\n",
       "      <th>2007</th>\n",
       "      <td>8</td>\n",
       "      <td>2007-01-01</td>\n",
       "      <td>2007-11-01</td>\n",
       "    </tr>\n",
       "    <tr>\n",
       "      <th>2008</th>\n",
       "      <td>8</td>\n",
       "      <td>2008-01-01</td>\n",
       "      <td>2008-12-01</td>\n",
       "    </tr>\n",
       "    <tr>\n",
       "      <th>2009</th>\n",
       "      <td>8</td>\n",
       "      <td>2009-01-01</td>\n",
       "      <td>2009-12-01</td>\n",
       "    </tr>\n",
       "    <tr>\n",
       "      <th>2010</th>\n",
       "      <td>8</td>\n",
       "      <td>2010-01-01</td>\n",
       "      <td>2010-12-01</td>\n",
       "    </tr>\n",
       "    <tr>\n",
       "      <th>2011</th>\n",
       "      <td>7</td>\n",
       "      <td>2011-01-01</td>\n",
       "      <td>2011-11-01</td>\n",
       "    </tr>\n",
       "    <tr>\n",
       "      <th>2012</th>\n",
       "      <td>8</td>\n",
       "      <td>2012-01-01</td>\n",
       "      <td>2012-11-01</td>\n",
       "    </tr>\n",
       "    <tr>\n",
       "      <th>2013</th>\n",
       "      <td>8</td>\n",
       "      <td>2013-01-01</td>\n",
       "      <td>2013-12-01</td>\n",
       "    </tr>\n",
       "    <tr>\n",
       "      <th>2014</th>\n",
       "      <td>8</td>\n",
       "      <td>2014-01-01</td>\n",
       "      <td>2014-12-01</td>\n",
       "    </tr>\n",
       "    <tr>\n",
       "      <th>2015</th>\n",
       "      <td>7</td>\n",
       "      <td>2015-01-01</td>\n",
       "      <td>2015-12-01</td>\n",
       "    </tr>\n",
       "    <tr>\n",
       "      <th>2016</th>\n",
       "      <td>8</td>\n",
       "      <td>2016-01-01</td>\n",
       "      <td>2016-11-01</td>\n",
       "    </tr>\n",
       "    <tr>\n",
       "      <th>2017</th>\n",
       "      <td>8</td>\n",
       "      <td>2017-01-01</td>\n",
       "      <td>2017-11-01</td>\n",
       "    </tr>\n",
       "    <tr>\n",
       "      <th>2018</th>\n",
       "      <td>8</td>\n",
       "      <td>2018-01-01</td>\n",
       "      <td>2018-12-01</td>\n",
       "    </tr>\n",
       "    <tr>\n",
       "      <th>2019</th>\n",
       "      <td>8</td>\n",
       "      <td>2019-01-01</td>\n",
       "      <td>2019-11-01</td>\n",
       "    </tr>\n",
       "    <tr>\n",
       "      <th>2020</th>\n",
       "      <td>8</td>\n",
       "      <td>2020-01-01</td>\n",
       "      <td>2020-12-01</td>\n",
       "    </tr>\n",
       "    <tr>\n",
       "      <th>2021</th>\n",
       "      <td>8</td>\n",
       "      <td>2021-01-01</td>\n",
       "      <td>2021-12-01</td>\n",
       "    </tr>\n",
       "    <tr>\n",
       "      <th>2022</th>\n",
       "      <td>8</td>\n",
       "      <td>2022-01-01</td>\n",
       "      <td>2022-11-01</td>\n",
       "    </tr>\n",
       "    <tr>\n",
       "      <th>2023</th>\n",
       "      <td>8</td>\n",
       "      <td>2023-01-01</td>\n",
       "      <td>2023-11-01</td>\n",
       "    </tr>\n",
       "    <tr>\n",
       "      <th>2024</th>\n",
       "      <td>8</td>\n",
       "      <td>2024-01-01</td>\n",
       "      <td>2024-11-01</td>\n",
       "    </tr>\n",
       "    <tr>\n",
       "      <th>2025</th>\n",
       "      <td>7</td>\n",
       "      <td>2025-01-01</td>\n",
       "      <td>2025-10-01</td>\n",
       "    </tr>\n",
       "  </tbody>\n",
       "</table>\n",
       "</div>"
      ],
      "text/plain": [
       "      count        min        max\n",
       "year                             \n",
       "1996      2 1996-10-01 1996-12-01\n",
       "1997      8 1997-01-01 1997-12-01\n",
       "1998      8 1998-01-01 1998-12-01\n",
       "1999      8 1999-01-01 1999-12-01\n",
       "2000      8 2000-01-01 2000-12-01\n",
       "2001      8 2001-01-01 2001-11-01\n",
       "2002      8 2002-01-01 2002-11-01\n",
       "2003      8 2003-01-01 2003-11-01\n",
       "2004      8 2004-01-01 2004-12-01\n",
       "2005      8 2005-01-01 2005-11-01\n",
       "2006      8 2006-01-01 2006-11-01\n",
       "2007      8 2007-01-01 2007-11-01\n",
       "2008      8 2008-01-01 2008-12-01\n",
       "2009      8 2009-01-01 2009-12-01\n",
       "2010      8 2010-01-01 2010-12-01\n",
       "2011      7 2011-01-01 2011-11-01\n",
       "2012      8 2012-01-01 2012-11-01\n",
       "2013      8 2013-01-01 2013-12-01\n",
       "2014      8 2014-01-01 2014-12-01\n",
       "2015      7 2015-01-01 2015-12-01\n",
       "2016      8 2016-01-01 2016-11-01\n",
       "2017      8 2017-01-01 2017-11-01\n",
       "2018      8 2018-01-01 2018-12-01\n",
       "2019      8 2019-01-01 2019-11-01\n",
       "2020      8 2020-01-01 2020-12-01\n",
       "2021      8 2021-01-01 2021-12-01\n",
       "2022      8 2022-01-01 2022-11-01\n",
       "2023      8 2023-01-01 2023-11-01\n",
       "2024      8 2024-01-01 2024-11-01\n",
       "2025      7 2025-01-01 2025-10-01"
      ]
     },
     "execution_count": 141,
     "metadata": {},
     "output_type": "execute_result"
    }
   ],
   "source": [
    "# make sure all the data has been collected\n",
    "print(f\"earliest = {beige_df[\"timestamp\"].min()}\")\n",
    "print(f\"latest = {beige_df[\"timestamp\"].max()}\")\n",
    "beige_df.groupby(\"year\")[\"timestamp\"].agg([\"count\", \"min\", \"max\"])"
   ]
  },
  {
   "cell_type": "markdown",
   "id": "d67533d8",
   "metadata": {},
   "source": [
    "## Text Cleaning"
   ]
  },
  {
   "cell_type": "markdown",
   "id": "3318523b",
   "metadata": {},
   "source": [
    "We perform basic case normalization, whitespace cleaning, boilerplate removal. Notably, we don't perform the following:\n",
    "- stopword removal (needed for sentiment analysis down the road)\n",
    "- punctuation cleaning (gets rid of financial symbols such as currency, percentages, ratios)\n",
    "- lemmatization (removes specificity of financial terms)"
   ]
  },
  {
   "cell_type": "code",
   "execution_count": 142,
   "id": "105ee6db",
   "metadata": {},
   "outputs": [],
   "source": [
    "# case normalization\n",
    "beige_df[\"text\"] = beige_df[\"text\"].str.lower()"
   ]
  },
  {
   "cell_type": "code",
   "execution_count": 143,
   "id": "6958fa43",
   "metadata": {},
   "outputs": [],
   "source": [
    "# clean whitespace\n",
    "beige_df[\"text\"] = beige_df[\"text\"].str.strip()\n",
    "beige_df[\"text\"] = beige_df[\"text\"].str.replace(r\"\\s+\", \" \", regex=True)"
   ]
  },
  {
   "cell_type": "code",
   "execution_count": 144,
   "id": "d82c8e5e",
   "metadata": {},
   "outputs": [],
   "source": [
    "# boilerplate removal\n",
    "def remove_prefixes(text):\n",
    "    prefixes = [\n",
    "        \"and is not a commentary on the views of federal reserve officials.\", \n",
    "        \"and is not a comment on the views of federal reserve officials\", \n",
    "        \"and is not a representation of the views of federal reserve officials.\",\n",
    "        \"and is not a commentary on the views of the federal reserve officials.\",\n",
    "        \"and is not a commentary of the views of federal reserve officials.\",\n",
    "        \"share sensitive information only on official, secure websites.\"\n",
    "    ]\n",
    "    prefix_regex = re.compile(\"|\".join(prefixes))\n",
    "    \n",
    "    match = prefix_regex.search(text)\n",
    "    new_text = text[match.end():].strip() if match else text\n",
    "\n",
    "    if len(text) - len(new_text) > 600:\n",
    "        print(f\"Warning: removed prefix length {len(text) - len(new_text)} exceeds threshold\")\n",
    "    return new_text\n",
    "\n",
    "def remove_suffixes(text):\n",
    "    suffixes = [\n",
    "        \"return to topbostonhome\", \n",
    "        \"summary districtsbostonnew\", \n",
    "        \"return to top this page uses javascript.\",\n",
    "        \"note: this report was prepared at the federal reserve bank of\"\n",
    "    ]\n",
    "    suffix_regex = re.compile(\"|\".join(suffixes))\n",
    "    \n",
    "    match = suffix_regex.search(text)\n",
    "    new_text = text[:match.start()].strip() if match else text\n",
    "\n",
    "    if len(text) - len(new_text) > 400:\n",
    "        print(f\"Warning: removed prefix length {len(text) - len(new_text)} exceeds threshold\")\n",
    "    return new_text\n",
    "\n",
    "beige_df[\"text\"] = beige_df[\"text\"].apply(remove_prefixes)\n",
    "beige_df[\"text\"] = beige_df[\"text\"].apply(remove_suffixes)"
   ]
  },
  {
   "cell_type": "code",
   "execution_count": 145,
   "id": "ca56ec57",
   "metadata": {},
   "outputs": [
    {
     "name": "stdout",
     "output_type": "stream",
     "text": [
      "Number of words:\n"
     ]
    },
    {
     "data": {
      "text/plain": [
       "min         979.00000\n",
       "max       17667.00000\n",
       "mean       4377.30303\n",
       "median     1693.00000\n",
       "Name: text, dtype: float64"
      ]
     },
     "execution_count": 145,
     "metadata": {},
     "output_type": "execute_result"
    }
   ],
   "source": [
    "# confirm that we don't need to do chunking since the summary lengths are relatively small\n",
    "print(\"Number of words:\")\n",
    "beige_df[\"text\"].str.split().apply(len).agg([\"min\", \"max\", \"mean\", \"median\"])"
   ]
  },
  {
   "cell_type": "code",
   "execution_count": 146,
   "id": "e381dd27",
   "metadata": {},
   "outputs": [
    {
     "name": "stdout",
     "output_type": "stream",
     "text": [
      "Top unigrams: [('reported', 10520), ('sales', 8944), ('activity', 8470), ('contacts', 7532), ('prices', 7448), ('demand', 7410), ('districts', 7190), ('district', 6742), ('new', 5737), ('continued', 5390)]\n",
      "Top bigrams: [(('real', 'estate'), 3054), (('kansas', 'city'), 2669), (('new', 'york'), 2568), (('san', 'francisco'), 2485), (('st.', 'louis'), 1852), (('since', 'last'), 1450), (('commercial', 'real'), 1309), (('districts', 'reported'), 1238), (('last', 'report'), 1204), (('year', 'ago'), 1074)]\n"
     ]
    }
   ],
   "source": [
    "# unigrams and bigrams\n",
    "all_tokens = []\n",
    "stopwords = set(nltk.corpus.stopwords.words(\"english\"))\n",
    "\n",
    "for text in beige_df[\"text\"]:\n",
    "    all_tokens.extend([word for word in nltk.word_tokenize(text) if word not in stopwords and word not in string.punctuation])\n",
    "\n",
    "print(f\"Top unigrams: {Counter(all_tokens).most_common(10)}\")\n",
    "print(f\"Top bigrams: {Counter(nltk.ngrams(all_tokens, 2)).most_common(10)}\")"
   ]
  },
  {
   "cell_type": "markdown",
   "id": "ebf923d9",
   "metadata": {},
   "source": [
    "# Write Final Data"
   ]
  },
  {
   "cell_type": "code",
   "execution_count": 147,
   "id": "31b9c8e9",
   "metadata": {},
   "outputs": [],
   "source": [
    "beige_df.to_csv(\"data/beige_book_1996_2025.csv\", index=False)"
   ]
  }
 ],
 "metadata": {
  "kernelspec": {
   "display_name": "Python 3",
   "language": "python",
   "name": "python3"
  },
  "language_info": {
   "codemirror_mode": {
    "name": "ipython",
    "version": 3
   },
   "file_extension": ".py",
   "mimetype": "text/x-python",
   "name": "python",
   "nbconvert_exporter": "python",
   "pygments_lexer": "ipython3",
   "version": "3.13.3"
  }
 },
 "nbformat": 4,
 "nbformat_minor": 5
}
